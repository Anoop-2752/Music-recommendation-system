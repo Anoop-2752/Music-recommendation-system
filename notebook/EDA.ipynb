{
 "cells": [
  {
   "cell_type": "code",
   "execution_count": 39,
   "id": "7a758b65",
   "metadata": {},
   "outputs": [],
   "source": [
    "import pandas as pd"
   ]
  },
  {
   "cell_type": "code",
   "execution_count": 40,
   "id": "a7f9d431",
   "metadata": {},
   "outputs": [],
   "source": [
    "df = pd.read_csv(\"spotify.csv\")"
   ]
  },
  {
   "cell_type": "code",
   "execution_count": 41,
   "id": "08d9e3b9",
   "metadata": {},
   "outputs": [
    {
     "data": {
      "text/html": [
       "<div>\n",
       "<style scoped>\n",
       "    .dataframe tbody tr th:only-of-type {\n",
       "        vertical-align: middle;\n",
       "    }\n",
       "\n",
       "    .dataframe tbody tr th {\n",
       "        vertical-align: top;\n",
       "    }\n",
       "\n",
       "    .dataframe thead th {\n",
       "        text-align: right;\n",
       "    }\n",
       "</style>\n",
       "<table border=\"1\" class=\"dataframe\">\n",
       "  <thead>\n",
       "    <tr style=\"text-align: right;\">\n",
       "      <th></th>\n",
       "      <th>artist</th>\n",
       "      <th>song</th>\n",
       "      <th>link</th>\n",
       "      <th>text</th>\n",
       "    </tr>\n",
       "  </thead>\n",
       "  <tbody>\n",
       "    <tr>\n",
       "      <th>0</th>\n",
       "      <td>ABBA</td>\n",
       "      <td>Ahe's My Kind Of Girl</td>\n",
       "      <td>/a/abba/ahes+my+kind+of+girl_20598417.html</td>\n",
       "      <td>Look at her face, it's a wonderful face  \\r\\nA...</td>\n",
       "    </tr>\n",
       "    <tr>\n",
       "      <th>1</th>\n",
       "      <td>ABBA</td>\n",
       "      <td>Andante, Andante</td>\n",
       "      <td>/a/abba/andante+andante_20002708.html</td>\n",
       "      <td>Take it easy with me, please  \\r\\nTouch me gen...</td>\n",
       "    </tr>\n",
       "    <tr>\n",
       "      <th>2</th>\n",
       "      <td>ABBA</td>\n",
       "      <td>As Good As New</td>\n",
       "      <td>/a/abba/as+good+as+new_20003033.html</td>\n",
       "      <td>I'll never know why I had to go  \\r\\nWhy I had...</td>\n",
       "    </tr>\n",
       "    <tr>\n",
       "      <th>3</th>\n",
       "      <td>ABBA</td>\n",
       "      <td>Bang</td>\n",
       "      <td>/a/abba/bang_20598415.html</td>\n",
       "      <td>Making somebody happy is a question of give an...</td>\n",
       "    </tr>\n",
       "    <tr>\n",
       "      <th>4</th>\n",
       "      <td>ABBA</td>\n",
       "      <td>Bang-A-Boomerang</td>\n",
       "      <td>/a/abba/bang+a+boomerang_20002668.html</td>\n",
       "      <td>Making somebody happy is a question of give an...</td>\n",
       "    </tr>\n",
       "  </tbody>\n",
       "</table>\n",
       "</div>"
      ],
      "text/plain": [
       "  artist                   song                                        link  \\\n",
       "0   ABBA  Ahe's My Kind Of Girl  /a/abba/ahes+my+kind+of+girl_20598417.html   \n",
       "1   ABBA       Andante, Andante       /a/abba/andante+andante_20002708.html   \n",
       "2   ABBA         As Good As New        /a/abba/as+good+as+new_20003033.html   \n",
       "3   ABBA                   Bang                  /a/abba/bang_20598415.html   \n",
       "4   ABBA       Bang-A-Boomerang      /a/abba/bang+a+boomerang_20002668.html   \n",
       "\n",
       "                                                text  \n",
       "0  Look at her face, it's a wonderful face  \\r\\nA...  \n",
       "1  Take it easy with me, please  \\r\\nTouch me gen...  \n",
       "2  I'll never know why I had to go  \\r\\nWhy I had...  \n",
       "3  Making somebody happy is a question of give an...  \n",
       "4  Making somebody happy is a question of give an...  "
      ]
     },
     "execution_count": 41,
     "metadata": {},
     "output_type": "execute_result"
    }
   ],
   "source": [
    "df.head(5)"
   ]
  },
  {
   "cell_type": "code",
   "execution_count": 42,
   "id": "dadebada",
   "metadata": {},
   "outputs": [
    {
     "data": {
      "text/plain": [
       "(57650, 4)"
      ]
     },
     "execution_count": 42,
     "metadata": {},
     "output_type": "execute_result"
    }
   ],
   "source": [
    "df.shape"
   ]
  },
  {
   "cell_type": "code",
   "execution_count": 43,
   "id": "443bd281",
   "metadata": {},
   "outputs": [
    {
     "data": {
      "text/plain": [
       "artist    0\n",
       "song      0\n",
       "link      0\n",
       "text      0\n",
       "dtype: int64"
      ]
     },
     "execution_count": 43,
     "metadata": {},
     "output_type": "execute_result"
    }
   ],
   "source": [
    "df.isnull().sum()"
   ]
  },
  {
   "cell_type": "code",
   "execution_count": 44,
   "id": "9465ffd8",
   "metadata": {},
   "outputs": [],
   "source": [
    "df = df.sample(5000).drop('link', axis=1).reset_index(drop=True)"
   ]
  },
  {
   "cell_type": "code",
   "execution_count": 45,
   "id": "bf9fdae4",
   "metadata": {},
   "outputs": [
    {
     "data": {
      "text/html": [
       "<div>\n",
       "<style scoped>\n",
       "    .dataframe tbody tr th:only-of-type {\n",
       "        vertical-align: middle;\n",
       "    }\n",
       "\n",
       "    .dataframe tbody tr th {\n",
       "        vertical-align: top;\n",
       "    }\n",
       "\n",
       "    .dataframe thead th {\n",
       "        text-align: right;\n",
       "    }\n",
       "</style>\n",
       "<table border=\"1\" class=\"dataframe\">\n",
       "  <thead>\n",
       "    <tr style=\"text-align: right;\">\n",
       "      <th></th>\n",
       "      <th>artist</th>\n",
       "      <th>song</th>\n",
       "      <th>text</th>\n",
       "    </tr>\n",
       "  </thead>\n",
       "  <tbody>\n",
       "    <tr>\n",
       "      <th>0</th>\n",
       "      <td>Ne-Yo</td>\n",
       "      <td>L.O.V.E</td>\n",
       "      <td>Ahh... Don't let me go.  \\r\\nThis is a Jlack t...</td>\n",
       "    </tr>\n",
       "    <tr>\n",
       "      <th>1</th>\n",
       "      <td>George Jones</td>\n",
       "      <td>Back In My Baby's Arms Again</td>\n",
       "      <td>Written by D. Frazier and A. Owens  \\r\\nThe ho...</td>\n",
       "    </tr>\n",
       "    <tr>\n",
       "      <th>2</th>\n",
       "      <td>Heart</td>\n",
       "      <td>Sweet Darlin'</td>\n",
       "      <td>Sweet darlin'  \\r\\nYou saved me  \\r\\nI'm hummi...</td>\n",
       "    </tr>\n",
       "    <tr>\n",
       "      <th>3</th>\n",
       "      <td>Doobie Brothers</td>\n",
       "      <td>Down In The Track</td>\n",
       "      <td>I been workin' the whole day long  \\r\\nOn thes...</td>\n",
       "    </tr>\n",
       "    <tr>\n",
       "      <th>4</th>\n",
       "      <td>Hillsong United</td>\n",
       "      <td>Grace Abounds</td>\n",
       "      <td>[Verse:]  \\r\\nYou lay aside Your throne  \\r\\nA...</td>\n",
       "    </tr>\n",
       "  </tbody>\n",
       "</table>\n",
       "</div>"
      ],
      "text/plain": [
       "            artist                          song  \\\n",
       "0            Ne-Yo                       L.O.V.E   \n",
       "1     George Jones  Back In My Baby's Arms Again   \n",
       "2            Heart                 Sweet Darlin'   \n",
       "3  Doobie Brothers             Down In The Track   \n",
       "4  Hillsong United                 Grace Abounds   \n",
       "\n",
       "                                                text  \n",
       "0  Ahh... Don't let me go.  \\r\\nThis is a Jlack t...  \n",
       "1  Written by D. Frazier and A. Owens  \\r\\nThe ho...  \n",
       "2  Sweet darlin'  \\r\\nYou saved me  \\r\\nI'm hummi...  \n",
       "3  I been workin' the whole day long  \\r\\nOn thes...  \n",
       "4  [Verse:]  \\r\\nYou lay aside Your throne  \\r\\nA...  "
      ]
     },
     "execution_count": 45,
     "metadata": {},
     "output_type": "execute_result"
    }
   ],
   "source": [
    "df.head(5)"
   ]
  },
  {
   "cell_type": "code",
   "execution_count": 46,
   "id": "d3dc617c",
   "metadata": {},
   "outputs": [
    {
     "data": {
      "text/plain": [
       "\"Ahh... Don't let me go.  \\r\\nThis is a Jlack track man.  \\r\\n  \\r\\n[Verse:]  \\r\\n  \\r\\nIf you listen to nothing else that I say,  \\r\\nHear me when I say this to you,  \\r\\nThat little voice in the back of your mind,  \\r\\nJust do what it tells you to do,  \\r\\nI saw her there,  \\r\\nCrying in two empty shot glasses,  \\r\\nCheers to herself then drink them down,  \\r\\nI should've just walked away,  \\r\\nBut there was something about her,  \\r\\n(Beautifully tragic)  \\r\\nTook a seat and said,  \\r\\n(So, you from outta town?)  \\r\\n  \\r\\n[Chorus:]  \\r\\n  \\r\\nI should've known she was crazy,  \\r\\nI've seen it in her eyes,  \\r\\nShe's crazy, (wohohoo)  \\r\\nI should've known she was crazy,  \\r\\nI did not realize  \\r\\nShe's crazy, (wohohoo)  \\r\\nI should've known she was crazy,  \\r\\n(She's crazy)  \\r\\n  \\r\\n[Verse 2:]  \\r\\n  \\r\\nShe looked at me,  \\r\\nAnd I swear the blood froze in my veins,  \\r\\nHer eyes pierced my heart and made it stop,  \\r\\nThe room started spinning,  \\r\\nAll of a sudden my vision was blurred,  \\r\\nAnd it got cold as I felt the temperature suddenly drop,  \\r\\nI'm getting scared now,  \\r\\nBut I don't show it,  \\r\\nBut it's like she's looking through me,  \\r\\nSo I think that she know it,  \\r\\nThat's when she pulled me close,  \\r\\nHolding me so tight,  \\r\\nSaid I don't care about tomorrow,  \\r\\nBut your mine tonight,  \\r\\n  \\r\\n[Chorus:]  \\r\\n  \\r\\nI should've known she was crazy,  \\r\\nI've seen it in her eyes,  \\r\\nShe's crazy, (wohohoo)  \\r\\nI should've known she was crazy,  \\r\\nI did not realize  \\r\\nShe's crazy, (wohohoo)  \\r\\nI should've known she was crazy,  \\r\\n(She's crazy)  \\r\\n  \\r\\n[Harmonizing]  \\r\\n  \\r\\nCrazy (crazy)  \\r\\nWhat you do to me,  \\r\\n  \\r\\n[Chorus:]  \\r\\n  \\r\\nI should've known she was crazy,  \\r\\nI've seen it in her eyes,  \\r\\nShe's crazy, (wohohoo)  \\r\\nI should've known she was crazy,  \\r\\nI did not realize  \\r\\nShe's crazy, (wohohoo)  \\r\\nI should've known she was crazy,  \\r\\n(She's crazy)\\r\\n\\r\\n\""
      ]
     },
     "execution_count": 46,
     "metadata": {},
     "output_type": "execute_result"
    }
   ],
   "source": [
    "df['text'][0]"
   ]
  },
  {
   "cell_type": "code",
   "execution_count": 47,
   "id": "4a8d4850",
   "metadata": {},
   "outputs": [
    {
     "data": {
      "text/plain": [
       "(5000, 3)"
      ]
     },
     "execution_count": 47,
     "metadata": {},
     "output_type": "execute_result"
    }
   ],
   "source": [
    "df.shape"
   ]
  },
  {
   "cell_type": "markdown",
   "id": "35f72d69",
   "metadata": {},
   "source": [
    "### Text Preprocessing / Text Cleaning"
   ]
  },
  {
   "cell_type": "code",
   "execution_count": 48,
   "id": "a87ba50c",
   "metadata": {},
   "outputs": [],
   "source": [
    "df['text'] = df['text'].str.lower().replace(r'^\\w\\s','').replace(r'\\n',' ',regex = True)"
   ]
  },
  {
   "cell_type": "code",
   "execution_count": 49,
   "id": "88c47fff",
   "metadata": {},
   "outputs": [
    {
     "data": {
      "text/html": [
       "<div>\n",
       "<style scoped>\n",
       "    .dataframe tbody tr th:only-of-type {\n",
       "        vertical-align: middle;\n",
       "    }\n",
       "\n",
       "    .dataframe tbody tr th {\n",
       "        vertical-align: top;\n",
       "    }\n",
       "\n",
       "    .dataframe thead th {\n",
       "        text-align: right;\n",
       "    }\n",
       "</style>\n",
       "<table border=\"1\" class=\"dataframe\">\n",
       "  <thead>\n",
       "    <tr style=\"text-align: right;\">\n",
       "      <th></th>\n",
       "      <th>artist</th>\n",
       "      <th>song</th>\n",
       "      <th>text</th>\n",
       "    </tr>\n",
       "  </thead>\n",
       "  <tbody>\n",
       "    <tr>\n",
       "      <th>4995</th>\n",
       "      <td>Boney M.</td>\n",
       "      <td>When A Child Is Born</td>\n",
       "      <td>a ray of hope flickers in the sky  \\r a tiny s...</td>\n",
       "    </tr>\n",
       "    <tr>\n",
       "      <th>4996</th>\n",
       "      <td>Paul Simon</td>\n",
       "      <td>Go Tell It On The Mountain</td>\n",
       "      <td>[chorus]  \\r hallelujah!  \\r go tell it on the...</td>\n",
       "    </tr>\n",
       "    <tr>\n",
       "      <th>4997</th>\n",
       "      <td>Horrible Histories</td>\n",
       "      <td>Dick Turpin Or Stand And Deliver</td>\n",
       "      <td>everyone thinks they know the story  \\r of dic...</td>\n",
       "    </tr>\n",
       "    <tr>\n",
       "      <th>4998</th>\n",
       "      <td>Ozzy Osbourne</td>\n",
       "      <td>No Easy Way Out</td>\n",
       "      <td>looking to the mirror  \\r from the other side ...</td>\n",
       "    </tr>\n",
       "    <tr>\n",
       "      <th>4999</th>\n",
       "      <td>Iron Maiden</td>\n",
       "      <td>Sea Of Madness</td>\n",
       "      <td>out in the street somebody's crying,  \\r out i...</td>\n",
       "    </tr>\n",
       "  </tbody>\n",
       "</table>\n",
       "</div>"
      ],
      "text/plain": [
       "                  artist                              song  \\\n",
       "4995            Boney M.              When A Child Is Born   \n",
       "4996          Paul Simon        Go Tell It On The Mountain   \n",
       "4997  Horrible Histories  Dick Turpin Or Stand And Deliver   \n",
       "4998       Ozzy Osbourne                   No Easy Way Out   \n",
       "4999         Iron Maiden                    Sea Of Madness   \n",
       "\n",
       "                                                   text  \n",
       "4995  a ray of hope flickers in the sky  \\r a tiny s...  \n",
       "4996  [chorus]  \\r hallelujah!  \\r go tell it on the...  \n",
       "4997  everyone thinks they know the story  \\r of dic...  \n",
       "4998  looking to the mirror  \\r from the other side ...  \n",
       "4999  out in the street somebody's crying,  \\r out i...  "
      ]
     },
     "execution_count": 49,
     "metadata": {},
     "output_type": "execute_result"
    }
   ],
   "source": [
    "df.tail(5)"
   ]
  },
  {
   "cell_type": "code",
   "execution_count": 50,
   "id": "518dd92d",
   "metadata": {},
   "outputs": [],
   "source": [
    "import nltk\n",
    "from nltk.stem.porter import PorterStemmer"
   ]
  },
  {
   "cell_type": "code",
   "execution_count": 51,
   "id": "2c17f948",
   "metadata": {},
   "outputs": [],
   "source": [
    "stemmer = PorterStemmer()"
   ]
  },
  {
   "cell_type": "code",
   "execution_count": 52,
   "id": "8c6324b2",
   "metadata": {},
   "outputs": [],
   "source": [
    "def token(txt):\n",
    "    token = nltk.word_tokenize(txt)\n",
    "    a = [stemmer.stem(w) for w in token]\n",
    "    return \" \".join(a)"
   ]
  },
  {
   "cell_type": "code",
   "execution_count": 53,
   "id": "c2b7eb6a",
   "metadata": {},
   "outputs": [
    {
     "data": {
      "text/plain": [
       "'you are beauti , beauti'"
      ]
     },
     "execution_count": 53,
     "metadata": {},
     "output_type": "execute_result"
    }
   ],
   "source": [
    "token(\"you are beautiful, beauty\")"
   ]
  },
  {
   "cell_type": "code",
   "execution_count": 54,
   "id": "66f8d760",
   "metadata": {},
   "outputs": [
    {
     "data": {
      "text/plain": [
       "0       ahh ... do n't let me go . thi is a jlack trac...\n",
       "1       written by d. frazier and a. owen the honey be...\n",
       "2       sweet darlin ' you save me i 'm hummin ' from ...\n",
       "3       i been workin ' the whole day long on these ra...\n",
       "4       [ vers : ] you lay asid your throne and to thi...\n",
       "                              ...                        \n",
       "4995    a ray of hope flicker in the sky a tini star l...\n",
       "4996    [ choru ] hallelujah ! go tell it on the mount...\n",
       "4997    everyon think they know the stori of dick turp...\n",
       "4998    look to the mirror from the other side see her...\n",
       "4999    out in the street somebodi 's cri , out in the...\n",
       "Name: text, Length: 5000, dtype: object"
      ]
     },
     "execution_count": 54,
     "metadata": {},
     "output_type": "execute_result"
    }
   ],
   "source": [
    "df['text'].apply(lambda x: token(x))"
   ]
  },
  {
   "cell_type": "code",
   "execution_count": 55,
   "id": "b4a59c5c",
   "metadata": {},
   "outputs": [],
   "source": [
    "from sklearn.feature_extraction.text import TfidfVectorizer \n",
    "from sklearn.metrics.pairwise import cosine_similarity "
   ]
  },
  {
   "cell_type": "code",
   "execution_count": 56,
   "id": "67fdd87c",
   "metadata": {},
   "outputs": [],
   "source": [
    "tfid =TfidfVectorizer(analyzer='word', stop_words='english')"
   ]
  },
  {
   "cell_type": "code",
   "execution_count": 57,
   "id": "373a2dce",
   "metadata": {},
   "outputs": [],
   "source": [
    "matrix = tfid.fit_transform(df['text'])"
   ]
  },
  {
   "cell_type": "code",
   "execution_count": 58,
   "id": "0e34323a",
   "metadata": {},
   "outputs": [
    {
     "data": {
      "text/plain": [
       "<5000x23618 sparse matrix of type '<class 'numpy.float64'>'\n",
       "\twith 265786 stored elements in Compressed Sparse Row format>"
      ]
     },
     "execution_count": 58,
     "metadata": {},
     "output_type": "execute_result"
    }
   ],
   "source": [
    "matrix"
   ]
  },
  {
   "cell_type": "code",
   "execution_count": 59,
   "id": "51be9b68",
   "metadata": {},
   "outputs": [],
   "source": [
    "similar = cosine_similarity(matrix)"
   ]
  },
  {
   "cell_type": "code",
   "execution_count": 60,
   "id": "33aaec28",
   "metadata": {},
   "outputs": [
    {
     "data": {
      "text/plain": [
       "array([1.        , 0.00984394, 0.01001044, ..., 0.01632664, 0.0291246 ,\n",
       "       0.02839526])"
      ]
     },
     "execution_count": 60,
     "metadata": {},
     "output_type": "execute_result"
    }
   ],
   "source": [
    "similar[0]"
   ]
  },
  {
   "cell_type": "code",
   "execution_count": 62,
   "id": "ecaece1d",
   "metadata": {},
   "outputs": [
    {
     "data": {
      "text/plain": [
       "4998"
      ]
     },
     "execution_count": 62,
     "metadata": {},
     "output_type": "execute_result"
    }
   ],
   "source": [
    "df[df['song']=='No Easy Way Out'].index[0]"
   ]
  },
  {
   "cell_type": "markdown",
   "id": "7c5eb7b7",
   "metadata": {},
   "source": [
    "### Recommender Function"
   ]
  },
  {
   "cell_type": "code",
   "execution_count": 67,
   "id": "61bb4c9d",
   "metadata": {},
   "outputs": [],
   "source": [
    "def recommender(song_name):\n",
    "    idx = df[df['song']==song_name].index[0]\n",
    "    distance = sorted(list(enumerate(similar[idx])),reverse=True, key = lambda x:x[1])\n",
    "    song = []\n",
    "    for s_id in distance[1:5]:\n",
    "        song.append(df.iloc[s_id[0]].song)\n",
    "    return song"
   ]
  },
  {
   "cell_type": "code",
   "execution_count": 72,
   "id": "d7af0b8a",
   "metadata": {},
   "outputs": [
    {
     "data": {
      "text/plain": [
       "['When A Child Is Born',\n",
       " 'At Last I Am Born',\n",
       " 'Do Not Pass Me By',\n",
       " 'Born In The U. S. A.']"
      ]
     },
     "execution_count": 72,
     "metadata": {},
     "output_type": "execute_result"
    }
   ],
   "source": [
    "recommender(\"When A Child Is Born\")"
   ]
  },
  {
   "cell_type": "code",
   "execution_count": 78,
   "id": "2e24b1fc",
   "metadata": {},
   "outputs": [
    {
     "name": "stdout",
     "output_type": "stream",
     "text": [
      "✅ Model saved successfully as 'similar.pkl'\n"
     ]
    }
   ],
   "source": [
    "import pickle\n",
    "\n",
    "# Save the trained model\n",
    "with open(\"similar.pkl\", \"wb\") as file:\n",
    "    pickle.dump(similar, file)\n",
    "\n",
    "print(\"✅ Model saved successfully as 'similar.pkl'\")"
   ]
  },
  {
   "cell_type": "code",
   "execution_count": 79,
   "id": "0dcd2e97",
   "metadata": {},
   "outputs": [
    {
     "name": "stdout",
     "output_type": "stream",
     "text": [
      "✅ Model saved successfully as 'df.pkl'\n"
     ]
    }
   ],
   "source": [
    "import pickle\n",
    "\n",
    "# Save the trained model\n",
    "with open(\"df.pkl\", \"wb\") as file:\n",
    "    pickle.dump(df, file)\n",
    "\n",
    "print(\"✅ Model saved successfully as 'df.pkl'\")"
   ]
  },
  {
   "cell_type": "code",
   "execution_count": 73,
   "id": "7a271020",
   "metadata": {},
   "outputs": [],
   "source": [
    "import pickle"
   ]
  },
  {
   "cell_type": "code",
   "execution_count": 74,
   "id": "651f1646",
   "metadata": {},
   "outputs": [],
   "source": [
    "pickle.dump(similar, open(\"similarity\", \"wb\"))"
   ]
  },
  {
   "cell_type": "code",
   "execution_count": 75,
   "id": "41600892",
   "metadata": {},
   "outputs": [],
   "source": [
    "pickle.dump(df, open(\"df\", \"wb\"))"
   ]
  },
  {
   "cell_type": "code",
   "execution_count": null,
   "id": "399de7e3",
   "metadata": {},
   "outputs": [],
   "source": []
  }
 ],
 "metadata": {
  "kernelspec": {
   "display_name": "Python 3 (ipykernel)",
   "language": "python",
   "name": "python3"
  },
  "language_info": {
   "codemirror_mode": {
    "name": "ipython",
    "version": 3
   },
   "file_extension": ".py",
   "mimetype": "text/x-python",
   "name": "python",
   "nbconvert_exporter": "python",
   "pygments_lexer": "ipython3",
   "version": "3.10.9"
  }
 },
 "nbformat": 4,
 "nbformat_minor": 5
}
